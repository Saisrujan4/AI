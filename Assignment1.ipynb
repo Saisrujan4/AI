{
  "nbformat": 4,
  "nbformat_minor": 0,
  "metadata": {
    "colab": {
      "name": "Assignment1.ipynb",
      "provenance": [],
      "authorship_tag": "ABX9TyMv6Iv3ASKvY3cQ2EvYx+gL",
      "include_colab_link": true
    },
    "kernelspec": {
      "name": "python3",
      "display_name": "Python 3"
    },
    "language_info": {
      "name": "python"
    }
  },
  "cells": [
    {
      "cell_type": "markdown",
      "metadata": {
        "id": "view-in-github",
        "colab_type": "text"
      },
      "source": [
        "<a href=\"https://colab.research.google.com/github/Saisrujan4/AI/blob/main/Assignment1.ipynb\" target=\"_parent\"><img src=\"https://colab.research.google.com/assets/colab-badge.svg\" alt=\"Open In Colab\"/></a>"
      ]
    },
    {
      "cell_type": "code",
      "metadata": {
        "colab": {
          "base_uri": "https://localhost:8080/"
        },
        "id": "P_OpJEqBVn0N",
        "outputId": "7f25fb9c-fb4b-4a17-a940-dfd2739172b5"
      },
      "source": [
        "from scipy.optimize import linprog\n",
        "a=[-50,-120]\n",
        "c1=[[7000,2000],[10,30]]\n",
        "c2=[700000,1200]\n",
        "limits=[(0,110),(0,110)]\n",
        "o=linprog(c=a,A_ub=c1,b_ub=c2,A_eq=None,b_eq=None,bounds=limits,method=\"Simplex\")\n",
        "o.x\n",
        "print('Wheat: ',round(o.x[0]))\n",
        "print('Barley: ',round(o.x[1]))"
      ],
      "execution_count": 17,
      "outputs": [
        {
          "output_type": "stream",
          "name": "stdout",
          "text": [
            "Wheat:  98\n",
            "Barley:  7\n"
          ]
        }
      ]
    }
  ]
}